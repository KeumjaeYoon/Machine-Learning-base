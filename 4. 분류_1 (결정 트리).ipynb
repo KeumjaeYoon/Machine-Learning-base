{
 "cells": [
  {
   "cell_type": "markdown",
   "metadata": {},
   "source": [
    "# 결정 트리\n",
    "* 트리 기반의 분류 규칙\n",
    "\n",
    "\n",
    "* 많은 규칙이 존재 -> 분류를 결정하는 방식이 복잡 -> 과적합 발생\n",
    "         트리의 깊이가 깊어질 수록 결정트리의 예측 성능이 저해될 가능성이 높음.\n",
    "         \n",
    "         \n",
    "\n",
    "* 정보 균일도가 데이터 세트로 쪼개질 수 있도록 조건을 찾아 서브 데이터를 만듦.\n",
    "\n",
    "\n",
    "* 서브 데이터 세트에서 균일도가 높은 자식 데이터 세트를 쪼개는 방식으로 데이터 값 예측 \n",
    "\n",
    "\n",
    "##### 결정 트리의 구조\n",
    "         규칙 노드 : 규칙 조건 표시\n",
    "         리프 노드 : 결정된 클래스 값 표시\n",
    "\n",
    "\n",
    "##### 높은 정확도\n",
    "\n",
    "적은 결정 노드로 높은 정확도를 가지려면 데이터를 분류할 때 최대한 많은 데이터 세트가 해당 분류에 속할 수 있도록 규칙이 정해져야 한다.\n",
    "\n",
    "--> 최대한 균일한 데이터 세트를 구성하도록 분할.\n",
    "\n",
    "\n",
    "##### 정보의 균일도\n",
    "\n",
    "* 정보 이득 : (1 - 엔트로피), 정보 이득이 높은 속성을 기준으로 분할\n",
    "        엔트로피는 주어진 데이터 집합의 혼잡도를 의미하는데,\n",
    "        서로 다른 값이 섞여 있으면 엔트로피가 높고, 같은 값이 섞여 있으면 엔트로피가 낮다.\n",
    "\n",
    "* 지니 계수 : 지니 계수가 낮을수록 데이터의 균일도가 높은 것으로 해석해 낮은 속성을 기준으로 분할\n",
    "\n",
    "\n",
    "##### 장점\n",
    "* 쉽다. 직관적이다\n",
    "* 피처의 스케일링이나 정규화 등의 사전 가공 영향도가 크지 않다.\n",
    "\n",
    "##### 단점\n",
    "* 과적합으로 알고리즘 성능이 떨어진다.\n",
    "* 이를 극복하기 위해 트리의 크기를 사전에 제한하는 튜닝이 필요하다."
   ]
  },
  {
   "cell_type": "markdown",
   "metadata": {},
   "source": [
    "### 결정 트리 실습 : 사용자 행동 인식 데이터"
   ]
  },
  {
   "cell_type": "code",
   "execution_count": 90,
   "metadata": {},
   "outputs": [],
   "source": [
    "import pandas as pd\n",
    "import numpy as np\n",
    "import matplotlib.pyplot as plt\n",
    "%matplotlib inline\n",
    "import warnings\n",
    "warnings.filterwarnings('ignore')\n",
    "import os\n",
    "workspace_path = 'C:\\\\Users\\\\dbswj\\\\OneDrive\\\\바탕 화면\\\\human_activity'"
   ]
  },
  {
   "cell_type": "code",
   "execution_count": 165,
   "metadata": {},
   "outputs": [],
   "source": [
    "feature_name_df = pd.read_csv('C:\\\\Users\\\\dbswj\\\\OneDrive\\\\바탕 화면\\\\human_activity\\\\features.txt', sep = ' ', header = None,\n",
    "                            names = ['column_index','column_name'])\n",
    "feature_name = feature_name_df.iloc[:,1].values.tolist()"
   ]
  },
  {
   "cell_type": "code",
   "execution_count": 140,
   "metadata": {},
   "outputs": [
    {
     "name": "stdout",
     "output_type": "stream",
     "text": [
      "column_index    42\n",
      "dtype: int64\n"
     ]
    }
   ],
   "source": [
    "feature_dup_df = feature_name_df.groupby('column_name').count()\n",
    "print(feature_dup_df[feature_dup_df['column_index']>1].count())"
   ]
  },
  {
   "cell_type": "markdown",
   "metadata": {},
   "source": [
    "##### 중복된 피처명을 고려해 새로운 피처명을 가지는 DataFrame을 반환하는 함수"
   ]
  },
  {
   "cell_type": "code",
   "execution_count": 138,
   "metadata": {},
   "outputs": [],
   "source": [
    "def get_new_feature_name_df(x):\n",
    "    feature_dup_df = pd.DataFrame(data = x.groupby('column_name').cumcount(),columns = ['dup_cnt'])\n",
    "    feature_dup_df = feature_dup_df.reset_index()\n",
    "    new_feature_name_df = pd.merge(x.reset_index(), feature_dup_df, how = 'outer')\n",
    "\n",
    "    for i in new_feature_name_df['index']:\n",
    "        if new_feature_name_df.iloc[i,3] == 1:\n",
    "            new_feature_name_df.iloc[i,2] = new_feature_name_df.iloc[i,2] + '_1'\n",
    "        elif new_feature_name_df.iloc[i,3] == 2:\n",
    "            new_feature_name_df.iloc[i,2] = new_feature_name_df.iloc[i,2] + '_2'\n",
    "    # new_feature_name_df['column_name'] = new_feature_name_df['column_name','dup_cnt'].apply(lambda x: x[0] + '_' + x[1] if x[1] > 0 else x[0], axis = 1)    \n",
    "\n",
    "    new_feature_name_df = new_feature_name_df.iloc[:,2].values.tolist()\n",
    "\n",
    "    return new_feature_name_df"
   ]
  },
  {
   "cell_type": "markdown",
   "metadata": {},
   "source": [
    "##### human_ activity data의 train, test 생성 함수"
   ]
  },
  {
   "cell_type": "code",
   "execution_count": 180,
   "metadata": {},
   "outputs": [],
   "source": [
    "def get_human_dataset():\n",
    "    data_path_train = os.path.join(workspace_path,'train')\n",
    "    data_path_test = os.path.join(workspace_path,'test')\n",
    "    feature_name_df = pd.read_csv(os.path.join(workspace_path,'features.txt'), sep = ' ', names = ['column_index','column_name'])\n",
    "    feature_name = get_new_feature_name_df(feature_name_df)\n",
    "    \n",
    "    X_train = pd.read_csv(os.path.join(data_path_train,'X_train.txt'), sep = '\\s+', names = feature_name)\n",
    "    X_test = pd.read_csv(os.path.join(data_path_test,'X_test.txt'), sep = '\\s+', names = feature_name)\n",
    "    y_train = pd.read_csv(os.path.join(data_path_train,'y_train.txt'), sep = '\\s+', names = ['action'])\n",
    "    y_test = pd.read_csv(os.path.join(data_path_test,'y_test.txt'), sep = '\\s+', names = ['action'])\n",
    "    \n",
    "    return X_train, X_test, y_train, y_test\n",
    "\n",
    "X_train, X_test, y_train, y_test = get_human_dataset()"
   ]
  },
  {
   "cell_type": "markdown",
   "metadata": {},
   "source": [
    "##### DecisionTreeClassifier"
   ]
  },
  {
   "cell_type": "code",
   "execution_count": 177,
   "metadata": {},
   "outputs": [],
   "source": [
    "from sklearn.tree import DecisionTreeClassifier\n",
    "from sklearn.metrics import accuracy_score"
   ]
  },
  {
   "cell_type": "code",
   "execution_count": 184,
   "metadata": {},
   "outputs": [
    {
     "name": "stdout",
     "output_type": "stream",
     "text": [
      "예측 정확도 : 0.8548\n"
     ]
    }
   ],
   "source": [
    "dt_clf = DecisionTreeClassifier(random_state=156)\n",
    "dt_clf.fit(X_train,y_train)\n",
    "pred = dt_clf.predict(X_test)\n",
    "accuracy = accuracy_score(y_test, pred)\n",
    "print(f'예측 정확도 : {accuracy:.4f}')"
   ]
  },
  {
   "cell_type": "markdown",
   "metadata": {},
   "source": [
    "##### Parameter 조절"
   ]
  },
  {
   "cell_type": "code",
   "execution_count": 187,
   "metadata": {},
   "outputs": [],
   "source": [
    "from sklearn.model_selection import GridSearchCV"
   ]
  },
  {
   "cell_type": "code",
   "execution_count": 202,
   "metadata": {},
   "outputs": [
    {
     "name": "stdout",
     "output_type": "stream",
     "text": [
      "최고 평균 정확도 :  0.8549\n",
      "최고 파라미터 : {'max_depth': 8, 'min_samples_split': 16}\n"
     ]
    }
   ],
   "source": [
    "params = {\n",
    "    'max_depth' : [6, 8, 10, 12, 16, 20, 24],\n",
    "    'min_samples_split' : [16,24]\n",
    "}\n",
    "grid_cv = GridSearchCV(dt_clf, param_grid = params, scoring = 'accuracy', cv = 5, verbose=1)\n",
    "grid_cv.fit(X_train, y_train)\n",
    "print(f'최고 평균 정확도 : {grid_cv.best_score_: .4f}')\n",
    "print(f'최고 파라미터 : {grid_cv.best_params_}')"
   ]
  },
  {
   "cell_type": "code",
   "execution_count": 203,
   "metadata": {},
   "outputs": [
    {
     "name": "stdout",
     "output_type": "stream",
     "text": [
      "트리 예측 정확도 : 0.8717\n"
     ]
    }
   ],
   "source": [
    "best_df_clf = grid_cv.best_estimator_\n",
    "pred1 = best_df_clf.predict(X_test)\n",
    "accuracy1 = accuracy_score(y_test, pred1)\n",
    "print(f'트리 예측 정확도 : {accuracy1:.4f}')"
   ]
  },
  {
   "cell_type": "code",
   "execution_count": 210,
   "metadata": {},
   "outputs": [
    {
     "data": {
      "image/png": "[encoded data removed]",
      "text/plain": [
       "<Figure size 720x576 with 1 Axes>"
      ]
     },
     "metadata": {
      "needs_background": "light"
     },
     "output_type": "display_data"
    }
   ],
   "source": [
    "import seaborn as sns\n",
    "\n",
    "ftr_importance_values = best_df_clf.feature_importances_\n",
    "ftr_importance = pd.Series(ftr_importance_values, index = X_train.columns)\n",
    "ftr_top20 = ftr_importance.sort_values(ascending = False)[:20]\n",
    "plt.figure(figsize=(10,8))\n",
    "sns.barplot(x = ftr_top20, y = ftr_top20.index)\n",
    "plt.show()"
   ]
  }
 ],
 "metadata": {
  "kernelspec": {
   "display_name": "Python 3",
   "language": "python",
   "name": "python3"
  },
  "language_info": {
   "codemirror_mode": {
    "name": "ipython",
    "version": 3
   },
   "file_extension": ".py",
   "mimetype": "text/x-python",
   "name": "python",
   "nbconvert_exporter": "python",
   "pygments_lexer": "ipython3",
   "version": "3.8.5"
  }
 },
 "nbformat": 4,
 "nbformat_minor": 4
}
