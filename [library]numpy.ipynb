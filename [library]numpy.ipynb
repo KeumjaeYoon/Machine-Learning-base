{
 "cells": [
  {
   "cell_type": "markdown",
   "metadata": {},
   "source": [
    "# 넘파이 ndarray"
   ]
  },
  {
   "cell_type": "code",
   "execution_count": 8,
   "metadata": {},
   "outputs": [
    {
     "name": "stdout",
     "output_type": "stream",
     "text": [
      "1 차원 (3,)\n",
      "2 차원 (2, 3)\n",
      "2 차원 (1, 3)\n"
     ]
    }
   ],
   "source": [
    "import numpy as np\n",
    "array1 = np.array([1,2,3])\n",
    "array2 = np.array([[1,2,3],[2,3,4]])\n",
    "array3 = np.array([[1,2,3]])\n",
    "\n",
    "print(array1.ndim,'차원' ,array1.shape)\n",
    "print(array2.ndim,'차원' ,array2.shape)\n",
    "print(array3.ndim,'차원' ,array3.shape)"
   ]
  },
  {
   "cell_type": "markdown",
   "metadata": {},
   "source": [
    "* ndarray 내의 데이터 타입은 그 연산의 특성상 같은 데이터 타입만 가능.\n",
    "* ex) int와 float가 함께 있을 수 없다.\n",
    "* astype() : 데이터 타입을 바꾸는 함수"
   ]
  },
  {
   "cell_type": "markdown",
   "metadata": {},
   "source": [
    "## axis 축\n",
    "* <1차원> \n",
    "##### axis 0"
   ]
  },
  {
   "cell_type": "markdown",
   "metadata": {},
   "source": [
    "* <2차원> \n",
    "##### axis 0 : 행\n",
    "##### axis1 : 열"
   ]
  },
  {
   "cell_type": "markdown",
   "metadata": {},
   "source": [
    "* axis기반의 연산함수 수행"
   ]
  },
  {
   "cell_type": "code",
   "execution_count": 13,
   "metadata": {},
   "outputs": [
    {
     "name": "stdout",
     "output_type": "stream",
     "text": [
      "[[1 2 3]\n",
      " [2 3 4]]\n",
      "15\n",
      "[3 5 7]\n",
      "[6 9]\n"
     ]
    }
   ],
   "source": [
    "print(array2)\n",
    "print(array2.sum())                # 모든 원소의 값 계산\n",
    "print(array2.sum(axis=0))          # 행의 방향으로 계산\n",
    "print(array2.sum(axis=1))          # 열의 방향으로 계산"
   ]
  },
  {
   "cell_type": "markdown",
   "metadata": {},
   "source": [
    "## ndarray 생성\n",
    "* arrange(), zeros(), ones()"
   ]
  },
  {
   "cell_type": "code",
   "execution_count": 18,
   "metadata": {},
   "outputs": [
    {
     "name": "stdout",
     "output_type": "stream",
     "text": [
      "[0 1 2 3 4 5 6 7 8 9]\n",
      "[[0. 0.]\n",
      " [0. 0.]\n",
      " [0. 0.]]\n",
      "[[1. 1.]\n",
      " [1. 1.]\n",
      " [1. 1.]]\n"
     ]
    }
   ],
   "source": [
    "print(np.arange(10))\n",
    "print(np.zeros((3,2)))\n",
    "print(np.ones((3,2)))"
   ]
  },
  {
   "cell_type": "markdown",
   "metadata": {},
   "source": [
    "* reshape()"
   ]
  },
  {
   "cell_type": "code",
   "execution_count": 31,
   "metadata": {},
   "outputs": [
    {
     "name": "stdout",
     "output_type": "stream",
     "text": [
      "[0 1 2 3 4 5 6 7 8 9]\n",
      "[[0 1 2 3 4]\n",
      " [5 6 7 8 9]]\n",
      "[[0 1 2 3 4]\n",
      " [5 6 7 8 9]]\n",
      "[[0 1]\n",
      " [2 3]\n",
      " [4 5]\n",
      " [6 7]\n",
      " [8 9]]\n",
      "[0 1 2 3 4 5 6 7 8 9]\n"
     ]
    }
   ],
   "source": [
    "list1 = np.arange(10)\n",
    "print(list1)\n",
    "print(list1.reshape(2,5))\n",
    "print(list1.reshape(-1,5))      # 열이 5로 고정되고 행이 자동으로 맞춰짐\n",
    "print(list1.reshape(-1,2))\n",
    "\n",
    "array2d = list1.reshape(-1,2)\n",
    "print(array1d.reshape(-1,))     # 5 x 2 형태의 2차원 데이터를 1차원으로 변경"
   ]
  },
  {
   "cell_type": "markdown",
   "metadata": {},
   "source": [
    "## 인덱싱(indexing)"
   ]
  },
  {
   "cell_type": "markdown",
   "metadata": {},
   "source": [
    "### 인덱싱 유형\n",
    "##### 특정 위치의 단일값 추출"
   ]
  },
  {
   "cell_type": "code",
   "execution_count": 52,
   "metadata": {
    "scrolled": true
   },
   "outputs": [
    {
     "name": "stdout",
     "output_type": "stream",
     "text": [
      "[0 1 2 3 4 5 6 7 8 9]\n",
      "1\n",
      "[[0 1 2 3 4]\n",
      " [5 6 7 8 9]]\n",
      "0\n",
      "9\n"
     ]
    }
   ],
   "source": [
    "# 1차원 ndarray\n",
    "array1d = np.arange(10)\n",
    "print(array1d)\n",
    "print(array1d[1])\n",
    "\n",
    "# 2차원 ndarray\n",
    "array2d = array1d.reshape(-1,5)\n",
    "print(array2d)\n",
    "print(array2d[0,0])\n",
    "print(array2d[1,4])"
   ]
  },
  {
   "cell_type": "markdown",
   "metadata": {},
   "source": [
    "##### 슬라이싱\n",
    "* 연속된 인덱스 상의 ndarray를 추출"
   ]
  },
  {
   "cell_type": "code",
   "execution_count": 46,
   "metadata": {
    "scrolled": true
   },
   "outputs": [
    {
     "name": "stdout",
     "output_type": "stream",
     "text": [
      "[3 4]\n",
      "[[0 1]\n",
      " [5 6]]\n"
     ]
    }
   ],
   "source": [
    "# 슬라이싱\n",
    "# 1차원 ndarray\n",
    "print(array1d[3:5])\n",
    "\n",
    "# 2차원 ndarray\n",
    "print(array2d[0:2, 0:2])"
   ]
  },
  {
   "cell_type": "markdown",
   "metadata": {},
   "source": [
    "##### 팬시 인덱싱\n",
    "* 일정한 인덱싱 집합을 리스트 또는 ndarray 형태로 지정해 추출"
   ]
  },
  {
   "cell_type": "code",
   "execution_count": 60,
   "metadata": {},
   "outputs": [
    {
     "name": "stdout",
     "output_type": "stream",
     "text": [
      "[2 4 8]\n",
      "[2 7]\n",
      "[[2 3]\n",
      " [7 8]]\n"
     ]
    }
   ],
   "source": [
    "# 1차원 ndarray\n",
    "print(array1d[[2,4,8]])\n",
    "\n",
    "# 2차원 ndarray\n",
    "print(array2d[[0,1],[2]])\n",
    "print(array2d[[0,1],2:4])"
   ]
  },
  {
   "cell_type": "markdown",
   "metadata": {},
   "source": [
    "##### 불린 인덱싱\n",
    "* 특정 조건에 해당하는지의 여부인 True / False값 인덱싱 집합을 기반으로 True에 해당하는 인덱스를 추출"
   ]
  },
  {
   "cell_type": "code",
   "execution_count": 68,
   "metadata": {},
   "outputs": [
    {
     "name": "stdout",
     "output_type": "stream",
     "text": [
      "[6 7 8 9]\n",
      "[3 4 5 6 7 8 9]\n"
     ]
    }
   ],
   "source": [
    "# 불린 인덱싱\n",
    "# 1차원 ndarray\n",
    "print(array1d[array1d>5])\n",
    "\n",
    "# 2차원 ndarray\n",
    "print(array2d[array2d>2])"
   ]
  },
  {
   "cell_type": "markdown",
   "metadata": {},
   "source": [
    "## 배열의 정렬 - sort(), argsort()"
   ]
  },
  {
   "cell_type": "markdown",
   "metadata": {},
   "source": [
    "### sort()\n",
    "* np.sort() : 원 행렬은 그대로 유지한 채 원 행렬의 정렬된 행렬을 반환\n",
    "* ndarray.sort() : 원 행렬 자체를 정렬한 형태로 변환하며 반환 값은 None\n",
    "* 기본적으로 디폴트는 오름차순 정렬. 내림차순 정렬을 위해서는 [::-1]을 적용. ex) np.sort()[::-1]"
   ]
  },
  {
   "cell_type": "markdown",
   "metadata": {},
   "source": [
    "##### 2차원 배열에서 axis를 기반으로 하는 sort()\n",
    "* np.sort(A, axis=0) : 행 방향을 기준으로 각 열에 대한 오름차순 정렬\n",
    "* np.sort(A, axis=1) : 열 방향을 기준으로 각 행에 대한 오름차순 정렬"
   ]
  },
  {
   "cell_type": "code",
   "execution_count": 72,
   "metadata": {},
   "outputs": [
    {
     "name": "stdout",
     "output_type": "stream",
     "text": [
      "[[3 8 4]\n",
      " [7 1 6]]\n",
      "[[3 1 4]\n",
      " [7 8 6]]\n",
      "[[3 4 8]\n",
      " [1 6 7]]\n"
     ]
    }
   ],
   "source": [
    "array1 = np.array([[3,8,4],[7,1,6]])\n",
    "print(array1) \n",
    "print(np.sort(array1, axis=0))\n",
    "print(np.sort(array1, axis=1))"
   ]
  },
  {
   "cell_type": "markdown",
   "metadata": {},
   "source": [
    "### argsort()\n",
    "* 원본 행렬 정렬 시 정렬된 행렬의 원래 인덱스를 필요로 하는 경우 사용."
   ]
  },
  {
   "cell_type": "code",
   "execution_count": 77,
   "metadata": {},
   "outputs": [
    {
     "name": "stdout",
     "output_type": "stream",
     "text": [
      "[3 1 9 5]\n",
      "[1 3 5 9]\n",
      "[1 0 3 2]\n"
     ]
    }
   ],
   "source": [
    "array2 = np.array([3,1,9,5])\n",
    "print(array2)\n",
    "print(np.sort(array2))\n",
    "print(np.argsort(array2))        # 원본 행렬 인덱스를 ndarray형태로 반환"
   ]
  },
  {
   "cell_type": "markdown",
   "metadata": {},
   "source": [
    "## 선형대수 연산 - 행렬 내적과 전치 행렬 구하기"
   ]
  },
  {
   "cell_type": "markdown",
   "metadata": {},
   "source": [
    "### 행렬 내적(행렬 곱)\n",
    "* np.dot()"
   ]
  },
  {
   "cell_type": "code",
   "execution_count": 84,
   "metadata": {},
   "outputs": [
    {
     "name": "stdout",
     "output_type": "stream",
     "text": [
      "[[ 58  64]\n",
      " [139 154]]\n"
     ]
    }
   ],
   "source": [
    "A = np.array([[1,2,3],\n",
    "              [4,5,6]])\n",
    "B = np.array([[7,8],\n",
    "            [9,10],\n",
    "            [11,12]])\n",
    "print(np.dot(A,B))"
   ]
  },
  {
   "cell_type": "markdown",
   "metadata": {},
   "source": [
    "### 전치 행렬\n",
    "* np.transpose()"
   ]
  },
  {
   "cell_type": "code",
   "execution_count": 85,
   "metadata": {},
   "outputs": [
    {
     "name": "stdout",
     "output_type": "stream",
     "text": [
      "[[1 3]\n",
      " [2 4]]\n"
     ]
    }
   ],
   "source": [
    "A = np.array([[1,2],[3,4]])\n",
    "print(np.transpose(A))"
   ]
  }
 ],
 "metadata": {
  "kernelspec": {
   "display_name": "Python 3",
   "language": "python",
   "name": "python3"
  },
  "language_info": {
   "codemirror_mode": {
    "name": "ipython",
    "version": 3
   },
   "file_extension": ".py",
   "mimetype": "text/x-python",
   "name": "python",
   "nbconvert_exporter": "python",
   "pygments_lexer": "ipython3",
   "version": "3.8.5"
  }
 },
 "nbformat": 4,
 "nbformat_minor": 4
}
