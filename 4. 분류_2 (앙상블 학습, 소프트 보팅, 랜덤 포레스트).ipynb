{
 "cells": [
  {
   "cell_type": "markdown",
   "metadata": {},
   "source": [
    "# 앙상블 학습\n",
    "### 보팅, 배깅\n",
    "1. 보팅과 배깅의 공통점 : 여러 개의 분류기가 투표를 통해 최종 예측 결과를 결정.\n",
    "\n",
    "\n",
    "2. 보팅과 배깅의 차이점\n",
    "* 보팅 : 서로 다른 알고리즘을 가진 분류기를 결합.\n",
    "* 배깅\n",
    "\n",
    "    1. 각각의 분류기가 모두 같은 알고리즘이지만 데이터 샘플링을 서로 다르게 가져가며 학습을 수행하고 보팅을 수행.\n",
    "    2. 대표적인 배깅 방식 : 랜덤 포레스트\n",
    "    3. 부스트랩 방식으로 개별 Classifier에게 데이터를 샘플링.\n",
    "    4. 교차 검증은 데이터 세트 간 중첩을 허용하지 않지만, 배깅 방식은 데이터 세트 간 중첩을 허용.\n",
    "\n",
    "### 부스팅\n",
    "1. 여러 개의 분류기가 순차적으로 학습을 수행.\n",
    "2. 앞에서 학습한 분류기가 예측이 틀린 데이터에 대해서는 올바르게 예측할 수 있도록 다음 분류기에 가중치를 부여하는 방식.\n",
    "3. 대표적인 부스팅 방식 : 그래디언트 부스트, XGBoost, LightGBM\n",
    "\n",
    "### 스태킹\n",
    "* 여러 가지 다른 모델의 예측 결과값을 다시 학습 데이터로 만들어 다른 모델(메타 모델)로 재학습시켜 결과를 예측"
   ]
  },
  {
   "cell_type": "markdown",
   "metadata": {},
   "source": [
    "## 보팅 유형 - 하드 보팅(Hard Voting)과 소프트 보팅(Soft Voting)\n",
    "* 하드 보팅 : 예측한 결과값들중 다수의 분류기가 결정한 예측값을 최종 보팅 결과값으로 선정.\n",
    "\n",
    "\n",
    "* 소프트 보팅 : 분류기들의 레이블 값 결정 확률의 평균을 구해 확률이 가장 높은 레이블 값을 결과값으로 선정. 일반적인 보팅 방법."
   ]
  },
  {
   "cell_type": "markdown",
   "metadata": {},
   "source": [
    "### 소프트 보팅 실습 : 위스콘신 유방암 데이터"
   ]
  },
  {
   "cell_type": "code",
   "execution_count": 15,
   "metadata": {},
   "outputs": [],
   "source": [
    "import pandas as pd\n",
    "from sklearn.ensemble import VotingClassifier\n",
    "from sklearn.datasets import load_breast_cancer\n",
    "from sklearn.linear_model import LogisticRegression\n",
    "from sklearn.neighbors import KNeighborsClassifier\n",
    "from sklearn.model_selection import train_test_split\n",
    "from sklearn.metrics import accuracy_score, recall_score, precision_score, f1_score, roc_curve, roc_auc_score\n",
    "import warnings\n",
    "warnings.filterwarnings('ignore')"
   ]
  },
  {
   "cell_type": "markdown",
   "metadata": {},
   "source": [
    "#### 데이터 불러오기 및 train, test set 설정"
   ]
  },
  {
   "cell_type": "code",
   "execution_count": 18,
   "metadata": {},
   "outputs": [],
   "source": [
    "cancer = load_breast_cancer()\n",
    "cancer_df = pd.DataFrame(data = cancer.data, columns = cancer.feature_names)\n",
    "\n",
    "X_train, X_test, y_train, y_test = train_test_split(cancer_df, cancer.target, test_size = 0.2, random_state = 157)"
   ]
  },
  {
   "cell_type": "markdown",
   "metadata": {},
   "source": [
    "#### 보팅 분류기 설정 및 학습/예측/평가"
   ]
  },
  {
   "cell_type": "code",
   "execution_count": 19,
   "metadata": {},
   "outputs": [
    {
     "name": "stdout",
     "output_type": "stream",
     "text": [
      "모델 정확도 : 0.9123\n"
     ]
    }
   ],
   "source": [
    "lr_clf = LogisticRegression()\n",
    "knn_clf = KNeighborsClassifier(n_neighbors = 8)\n",
    "vo_clf = VotingClassifier(estimators = [('LR',lr_clf),('KNN',knn_clf)], voting='soft')\n",
    "\n",
    "vo_clf.fit(X_train, y_train)\n",
    "pred = vo_clf.predict(X_test)\n",
    "accuracy = accuracy_score(pred, y_test)\n",
    "print(f'보팅 모델 정확도 : {accuracy:.4f}')"
   ]
  },
  {
   "cell_type": "markdown",
   "metadata": {},
   "source": [
    "#### 개별 분류기 학습/예측/평가"
   ]
  },
  {
   "cell_type": "code",
   "execution_count": 21,
   "metadata": {},
   "outputs": [
    {
     "name": "stdout",
     "output_type": "stream",
     "text": [
      "LogisticRegression() 모델 정확도 : 0.9298\n",
      "KNeighborsClassifier(n_neighbors=8) 모델 정확도 : 0.8860\n"
     ]
    }
   ],
   "source": [
    "for i in [lr_clf, knn_clf]:\n",
    "    i.fit(X_train, y_train)\n",
    "    pred = i.predict(X_test)\n",
    "    accuracy = accuracy_score(pred, y_test)\n",
    "    print(f'{i} 모델 정확도 : {accuracy:.4f}')"
   ]
  },
  {
   "cell_type": "markdown",
   "metadata": {},
   "source": [
    "## 랜덤 포레스트\n",
    "* 부트스트랩 분할 방식으로 만들어진 서브세트에 결정 트리 분류기를 각각 적용하는 방식"
   ]
  },
  {
   "cell_type": "markdown",
   "metadata": {},
   "source": [
    "### 랜덤 포레스트 실습 :  사용자 행동 인식 데이터\n",
    "#### 데이터를 불러오기 위한 get_humn_dataset 함수"
   ]
  },
  {
   "cell_type": "code",
   "execution_count": 59,
   "metadata": {},
   "outputs": [],
   "source": [
    "import os\n",
    "from sklearn.ensemble import RandomForestClassifier\n",
    "from sklearn.model_selection import GridSearchCV\n",
    "workspace_path = 'C:\\\\Users\\\\dbswj\\\\OneDrive\\\\바탕 화면\\\\human_activity'\n",
    "import matplotlib.pyplot as plt\n",
    "import seaborn as sns"
   ]
  },
  {
   "cell_type": "code",
   "execution_count": 32,
   "metadata": {},
   "outputs": [],
   "source": [
    "def get_new_feature_name_df(x):\n",
    "    feature_dup_df = pd.DataFrame(data = x.groupby('column_name').cumcount(),columns = ['dup_cnt'])\n",
    "    feature_dup_df = feature_dup_df.reset_index()\n",
    "    new_feature_name_df = pd.merge(x.reset_index(), feature_dup_df, how = 'outer')\n",
    "\n",
    "    for i in new_feature_name_df['index']:\n",
    "        if new_feature_name_df.iloc[i,3] == 1:\n",
    "            new_feature_name_df.iloc[i,2] = new_feature_name_df.iloc[i,2] + '_1'\n",
    "        elif new_feature_name_df.iloc[i,3] == 2:\n",
    "            new_feature_name_df.iloc[i,2] = new_feature_name_df.iloc[i,2] + '_2'\n",
    "    # new_feature_name_df['column_name'] = new_feature_name_df['column_name','dup_cnt'].apply(lambda x: x[0] + '_' + x[1] if x[1] > 0 else x[0], axis = 1)    \n",
    "\n",
    "    new_feature_name_df = new_feature_name_df.iloc[:,2].values.tolist()\n",
    "\n",
    "    return new_feature_name_df\n",
    "\n",
    "def get_human_dataset():\n",
    "    data_path_train = os.path.join(workspace_path,'train')\n",
    "    data_path_test = os.path.join(workspace_path,'test')\n",
    "    feature_name_df = pd.read_csv(os.path.join(workspace_path,'features.txt'), sep = ' ', names = ['column_index','column_name'])\n",
    "    feature_name = get_new_feature_name_df(feature_name_df)\n",
    "    \n",
    "    X_train = pd.read_csv(os.path.join(data_path_train,'X_train.txt'), sep = '\\s+', names = feature_name)\n",
    "    X_test = pd.read_csv(os.path.join(data_path_test,'X_test.txt'), sep = '\\s+', names = feature_name)\n",
    "    y_train = pd.read_csv(os.path.join(data_path_train,'y_train.txt'), sep = '\\s+', names = ['action'])\n",
    "    y_test = pd.read_csv(os.path.join(data_path_test,'y_test.txt'), sep = '\\s+', names = ['action'])\n",
    "    \n",
    "    return X_train, X_test, y_train, y_test\n",
    "X_train, X_test, y_train, y_test = get_human_dataset()"
   ]
  },
  {
   "cell_type": "markdown",
   "metadata": {},
   "source": [
    "#### 랜덤 포레스트 학습/예측/평가"
   ]
  },
  {
   "cell_type": "code",
   "execution_count": 55,
   "metadata": {},
   "outputs": [
    {
     "name": "stdout",
     "output_type": "stream",
     "text": [
      "랜덤 포레스트 모델 정확도 : 0.9253\n"
     ]
    }
   ],
   "source": [
    "rf_clf = RandomForestClassifier(random_state=0, n_jobs=-1)\n",
    "rf_clf.fit(X_train, y_train)\n",
    "pred = rf_clf.predict(X_test)\n",
    "accuracy = accuracy_score(y_test, pred)\n",
    "print(f'랜덤 포레스트 모델 정확도 : {accuracy:.4f}')"
   ]
  },
  {
   "cell_type": "markdown",
   "metadata": {},
   "source": [
    "#### 하이퍼 파라미터 튜닝\n",
    "* n_estimators : 결정 트리의 개수 지정, default = 10\n",
    "* min_samples_split : 노드를 분할하기 위한 최소한의 샘플 데이터 수 default = 2\n",
    "* min_samples_leaf : 말단 노드가 되기 위한 최소한의 샘플 데이터 수 \n",
    "* max_features : 최적의 분할을 위해 고려할 최대 피처 개수. default = sqrt(전체 피처 개수)"
   ]
  },
  {
   "cell_type": "code",
   "execution_count": 60,
   "metadata": {},
   "outputs": [
    {
     "name": "stdout",
     "output_type": "stream",
     "text": [
      "모델 최고 예측 정확도 : 0.9180\n",
      "최적 파라미터 : {'max_depth': 10, 'min_samples_leaf': 8, 'min_samples_split': 8, 'n_estimators': 100}\n"
     ]
    }
   ],
   "source": [
    "params = {\n",
    "    'n_estimators' : [100],\n",
    "    'max_depth' : [6, 8, 10 ,12],\n",
    "    'min_samples_leaf' : [8, 12, 18],\n",
    "    'min_samples_split' : [8, 16, 20]\n",
    "}\n",
    "\n",
    "rf_clf = RandomForestClassifier(random_state=0, n_jobs=-1)\n",
    "grid_cv = GridSearchCV(rf_clf, param_grid=params, cv=2, n_jobs=-1)\n",
    "grid_cv.fit(X_train,y_train)\n",
    "\n",
    "print(f'모델 최고 예측 정확도 : {grid_cv.best_score_:.4f}')\n",
    "print(f'최적 파라미터 : {grid_cv.best_params_}')"
   ]
  },
  {
   "cell_type": "markdown",
   "metadata": {},
   "source": [
    "#### 최적 파라미터를 적용한 모델 설정"
   ]
  },
  {
   "cell_type": "code",
   "execution_count": 61,
   "metadata": {},
   "outputs": [
    {
     "name": "stdout",
     "output_type": "stream",
     "text": [
      " 테스트 세트 정확도 : 0.9253\n"
     ]
    }
   ],
   "source": [
    "rf_clf1 = grid_cv.best_estimator_\n",
    "rf_clf1.fit(X_train, y_train)\n",
    "pred1 = rf_clf1.predict(X_test)\n",
    "accuracy1 = accuracy_score(y_test, pred)\n",
    "print(f' 테스트 세트 정확도 : {accuracy1:.4f}')"
   ]
  },
  {
   "cell_type": "code",
   "execution_count": 64,
   "metadata": {},
   "outputs": [
    {
     "data": {
      "image/png": "[encoded data removed]",
      "text/plain": [
       "<Figure size 720x576 with 1 Axes>"
      ]
     },
     "metadata": {
      "needs_background": "light"
     },
     "output_type": "display_data"
    }
   ],
   "source": [
    "ftr_importance_values = rf_clf1.feature_importances_\n",
    "ftr_importance = pd.Series(ftr_importance_values, index = X_train.columns)\n",
    "ftr_top20 = ftr_importance.sort_values(ascending=False)[:20]\n",
    "\n",
    "plt.figure(figsize=(10,8))\n",
    "sns.barplot(x = ftr_top20, y = ftr_top20.index)\n",
    "plt.show()"
   ]
  }
 ],
 "metadata": {
  "kernelspec": {
   "display_name": "Python 3",
   "language": "python",
   "name": "python3"
  },
  "language_info": {
   "codemirror_mode": {
    "name": "ipython",
    "version": 3
   },
   "file_extension": ".py",
   "mimetype": "text/x-python",
   "name": "python",
   "nbconvert_exporter": "python",
   "pygments_lexer": "ipython3",
   "version": "3.8.5"
  }
 },
 "nbformat": 4,
 "nbformat_minor": 4
}
